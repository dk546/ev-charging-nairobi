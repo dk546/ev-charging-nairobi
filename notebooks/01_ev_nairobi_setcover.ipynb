{
 "cells": [
  {
   "cell_type": "code",
   "execution_count": 2,
   "id": "f63c0cbd",
   "metadata": {},
   "outputs": [],
   "source": [
    "import os\n",
    "import math\n",
    "import warnings\n",
    "import numpy as np\n",
    "import pandas as pd\n",
    "import geopandas as gpd\n",
    "import networkx as nx\n",
    "import pyomo.environ as pyo\n",
    "import folium\n",
    "import osmnx as ox\n",
    "from shapely.geometry import Point\n",
    "\n",
    "warnings.filterwarnings(\"ignore\", category=UserWarning)\n",
    "ox.settings.log_console = True\n",
    "ox.settings.use_cache = True\n",
    "\n",
    "# Config\n",
    "PLACE_NAME = \"Nairobi, Kenya\"\n",
    "TIME_THRESHOLDS_MIN = [10, 15, 20]   # minutes\n",
    "HEX_SIZE_KM = 1.2\n",
    "RESULTS_DIR = \"results\"\n",
    "os.makedirs(RESULTS_DIR, exist_ok=True)\n",
    "\n"
   ]
  },
  {
   "cell_type": "code",
   "execution_count": 5,
   "id": "23557de8",
   "metadata": {},
   "outputs": [],
   "source": [
    "def km_to_deg(km: float) -> float:\n",
    "    # rough conversion for small area near equator\n",
    "    return km / 111.32\n",
    "\n",
    "def build_hex_grid(boundary_gdf: gpd.GeoDataFrame, hex_km: float) -> gpd.GeoDataFrame:\n",
    "    \"\"\"Return centroids of a hex grid clipped to the boundary (EPSG:4326).\"\"\"\n",
    "    poly = boundary_gdf.geometry.union_all()  # Shapely 2+\n",
    "    minx, miny, maxx, maxy = poly.bounds\n",
    "\n",
    "    dx = km_to_deg(hex_km)\n",
    "    dy = dx * math.sqrt(3) / 2\n",
    "\n",
    "    xs = np.arange(minx - dx, maxx + dx, dx)\n",
    "    ys = np.arange(miny - dy, maxy + dy, dy)\n",
    "\n",
    "    points = []\n",
    "    for j, y in enumerate(ys):\n",
    "        offset = 0 if j % 2 == 0 else dx / 2\n",
    "        for x in xs:\n",
    "            points.append(Point(x + offset, y))\n",
    "\n",
    "    pts_gdf = gpd.GeoDataFrame(geometry=points, crs=\"EPSG:4326\")\n",
    "    pts_gdf = pts_gdf[pts_gdf.within(poly)].reset_index(drop=True)\n",
    "    pts_gdf[\"id\"] = [f\"d{idx:04d}\" for idx in range(len(pts_gdf))]\n",
    "    pts_gdf[\"weight\"] = 1.0\n",
    "    return pts_gdf[[\"id\", \"weight\", \"geometry\"]]\n"
   ]
  },
  {
   "cell_type": "code",
   "execution_count": 6,
   "id": "cddbe58c",
   "metadata": {},
   "outputs": [
    {
     "name": "stdout",
     "output_type": "stream",
     "text": [
      "Boundary OK: 1 polygon(s)\n"
     ]
    }
   ],
   "source": [
    "# Fetch Nairobi boundary and keep in WGS84\n",
    "boundary = ox.geocode_to_gdf(PLACE_NAME).to_crs(\"EPSG:4326\")\n",
    "polygon = boundary.geometry.union_all()\n",
    "\n",
    "print(\"Boundary OK:\", len(boundary), \"polygon(s)\")\n"
   ]
  },
  {
   "cell_type": "code",
   "execution_count": 7,
   "id": "2920b96d",
   "metadata": {},
   "outputs": [
    {
     "name": "stderr",
     "output_type": "stream",
     "text": [
      "c:\\Users\\HP\\anaconda3\\envs\\optimiser-env\\Lib\\site-packages\\osmnx\\_overpass.py:359: FutureWarning: `settings.timeout` is deprecated and will be removed in the v2.0.0 release: use `settings.requests_timeout` instead. See the OSMnx v2 migration guide: https://github.com/gboeing/osmnx/issues/1123\n",
      "  overpass_settings = _make_overpass_settings()\n",
      "c:\\Users\\HP\\anaconda3\\envs\\optimiser-env\\Lib\\site-packages\\osmnx\\_overpass.py:369: FutureWarning: `settings.timeout` is deprecated and will be removed in the v2.0.0 release: use `settings.requests_timeout` instead. See the OSMnx v2 migration guide: https://github.com/gboeing/osmnx/issues/1123\n",
      "  yield _overpass_request(data={\"data\": query_str})\n"
     ]
    },
    {
     "name": "stdout",
     "output_type": "stream",
     "text": [
      "Graph nodes/edges: 37232 90724\n"
     ]
    }
   ],
   "source": [
    "# Increase network timeouts for heavier downloads\n",
    "ox.settings.timeout = 180\n",
    "\n",
    "# Download/simplify drive graph, add speeds and travel times (seconds)\n",
    "G = ox.graph_from_polygon(polygon, network_type=\"drive\", retain_all=True, simplify=True)\n",
    "G = ox.add_edge_speeds(G)\n",
    "G = ox.add_edge_travel_times(G)\n",
    "\n",
    "print(\"Graph nodes/edges:\", len(G.nodes), len(G.edges))\n"
   ]
  },
  {
   "cell_type": "code",
   "execution_count": 8,
   "id": "7adf0a5f",
   "metadata": {},
   "outputs": [
    {
     "name": "stderr",
     "output_type": "stream",
     "text": [
      "c:\\Users\\HP\\anaconda3\\envs\\optimiser-env\\Lib\\site-packages\\osmnx\\_overpass.py:285: FutureWarning: `settings.timeout` is deprecated and will be removed in the v2.0.0 release: use `settings.requests_timeout` instead. See the OSMnx v2 migration guide: https://github.com/gboeing/osmnx/issues/1123\n",
      "  overpass_settings = _make_overpass_settings()\n",
      "c:\\Users\\HP\\anaconda3\\envs\\optimiser-env\\Lib\\site-packages\\osmnx\\_overpass.py:395: FutureWarning: `settings.timeout` is deprecated and will be removed in the v2.0.0 release: use `settings.requests_timeout` instead. See the OSMnx v2 migration guide: https://github.com/gboeing/osmnx/issues/1123\n",
      "  yield _overpass_request(data={\"data\": query_str})\n"
     ]
    },
    {
     "name": "stdout",
     "output_type": "stream",
     "text": [
      "Candidates fetched: 395\n"
     ]
    },
    {
     "name": "stderr",
     "output_type": "stream",
     "text": [
      "C:\\Users\\HP\\AppData\\Local\\Temp\\ipykernel_4532\\1805906704.py:24: UserWarning: Geometry is in a geographic CRS. Results from 'centroid' are likely incorrect. Use 'GeoSeries.to_crs()' to re-project geometries to a projected CRS before this operation.\n",
      "\n",
      "  candidates[\"geometry\"] = candidates.geometry.centroid\n"
     ]
    },
    {
     "data": {
      "text/html": [
       "<div>\n",
       "<style scoped>\n",
       "    .dataframe tbody tr th:only-of-type {\n",
       "        vertical-align: middle;\n",
       "    }\n",
       "\n",
       "    .dataframe tbody tr th {\n",
       "        vertical-align: top;\n",
       "    }\n",
       "\n",
       "    .dataframe thead th {\n",
       "        text-align: right;\n",
       "    }\n",
       "</style>\n",
       "<table border=\"1\" class=\"dataframe\">\n",
       "  <thead>\n",
       "    <tr style=\"text-align: right;\">\n",
       "      <th></th>\n",
       "      <th>id</th>\n",
       "      <th>name</th>\n",
       "      <th>geometry</th>\n",
       "    </tr>\n",
       "  </thead>\n",
       "  <tbody>\n",
       "    <tr>\n",
       "      <th>0</th>\n",
       "      <td>s0000</td>\n",
       "      <td>Carrefour</td>\n",
       "      <td>POINT (36.76304 -1.29825)</td>\n",
       "    </tr>\n",
       "    <tr>\n",
       "      <th>1</th>\n",
       "      <td>s0001</td>\n",
       "      <td>Carrefour</td>\n",
       "      <td>POINT (36.80187 -1.26143)</td>\n",
       "    </tr>\n",
       "    <tr>\n",
       "      <th>2</th>\n",
       "      <td>s0002</td>\n",
       "      <td>Naivas Supermarket</td>\n",
       "      <td>POINT (36.83488 -1.31645)</td>\n",
       "    </tr>\n",
       "    <tr>\n",
       "      <th>3</th>\n",
       "      <td>s0003</td>\n",
       "      <td>Nakumatt Embakasi Supermarket</td>\n",
       "      <td>POINT (36.88916 -1.32951)</td>\n",
       "    </tr>\n",
       "    <tr>\n",
       "      <th>4</th>\n",
       "      <td>s0004</td>\n",
       "      <td>Nakumatt Highridge</td>\n",
       "      <td>POINT (36.81855 -1.25964)</td>\n",
       "    </tr>\n",
       "    <tr>\n",
       "      <th>5</th>\n",
       "      <td>s0005</td>\n",
       "      <td>Chandarana Food Plus Supermarket Ltd.</td>\n",
       "      <td>POINT (36.81787 -1.25938)</td>\n",
       "    </tr>\n",
       "    <tr>\n",
       "      <th>6</th>\n",
       "      <td>s0006</td>\n",
       "      <td>Fairlane</td>\n",
       "      <td>POINT (36.80201 -1.30682)</td>\n",
       "    </tr>\n",
       "    <tr>\n",
       "      <th>7</th>\n",
       "      <td>s0007</td>\n",
       "      <td>Onn The Way Supermarket Muthaiga</td>\n",
       "      <td>POINT (36.82025 -1.24999)</td>\n",
       "    </tr>\n",
       "    <tr>\n",
       "      <th>8</th>\n",
       "      <td>s0008</td>\n",
       "      <td>LainiI Saba Market</td>\n",
       "      <td>POINT (36.79582 -1.31039)</td>\n",
       "    </tr>\n",
       "    <tr>\n",
       "      <th>9</th>\n",
       "      <td>s0009</td>\n",
       "      <td>Kaloki Super Market</td>\n",
       "      <td>POINT (36.79768 -1.31222)</td>\n",
       "    </tr>\n",
       "  </tbody>\n",
       "</table>\n",
       "</div>"
      ],
      "text/plain": [
       "      id                                   name                   geometry\n",
       "0  s0000                              Carrefour  POINT (36.76304 -1.29825)\n",
       "1  s0001                              Carrefour  POINT (36.80187 -1.26143)\n",
       "2  s0002                     Naivas Supermarket  POINT (36.83488 -1.31645)\n",
       "3  s0003          Nakumatt Embakasi Supermarket  POINT (36.88916 -1.32951)\n",
       "4  s0004                     Nakumatt Highridge  POINT (36.81855 -1.25964)\n",
       "5  s0005  Chandarana Food Plus Supermarket Ltd.  POINT (36.81787 -1.25938)\n",
       "6  s0006                               Fairlane  POINT (36.80201 -1.30682)\n",
       "7  s0007       Onn The Way Supermarket Muthaiga  POINT (36.82025 -1.24999)\n",
       "8  s0008                     LainiI Saba Market  POINT (36.79582 -1.31039)\n",
       "9  s0009                    Kaloki Super Market  POINT (36.79768 -1.31222)"
      ]
     },
     "metadata": {},
     "output_type": "display_data"
    }
   ],
   "source": [
    "# One Overpass query using OR semantics on values\n",
    "tags = {\n",
    "    \"shop\": [\"mall\", \"supermarket\"],  # shop=mall OR shop=supermarket\n",
    "    \"amenity\": \"supermarket\"          # OR amenity=supermarket\n",
    "}\n",
    "\n",
    "def fetch_pois_with_retry(polygon, tags, n_retries=3, wait=10):\n",
    "    last_err = None\n",
    "    for k in range(n_retries):\n",
    "        try:\n",
    "            g = ox.features_from_polygon(polygon, tags=tags)\n",
    "            if g is not None and len(g) > 0:\n",
    "                return g\n",
    "            last_err = RuntimeError(\"Empty result from Overpass for given tags.\")\n",
    "        except Exception as e:\n",
    "            last_err = e\n",
    "        time.sleep(wait * (k + 1))  # backoff\n",
    "    raise last_err\n",
    "\n",
    "pois = fetch_pois_with_retry(polygon, tags, n_retries=3, wait=10)\n",
    "\n",
    "# Normalize geometry to points (centroids for polygons)\n",
    "candidates = pois.to_crs(\"EPSG:4326\").copy()\n",
    "candidates[\"geometry\"] = candidates.geometry.centroid\n",
    "candidates = candidates.drop_duplicates(subset=[\"geometry\"]).reset_index(drop=True)\n",
    "candidates[\"id\"] = [f\"s{idx:04d}\" for idx in range(len(candidates))]\n",
    "\n",
    "print(\"Candidates fetched:\", len(candidates))\n",
    "display(candidates.head(10)[[c for c in [\"id\",\"name\",\"geometry\"] if c in candidates.columns]])\n"
   ]
  },
  {
   "cell_type": "code",
   "execution_count": 9,
   "id": "5128521a",
   "metadata": {},
   "outputs": [
    {
     "name": "stdout",
     "output_type": "stream",
     "text": [
      "Demand points: 560\n"
     ]
    },
    {
     "data": {
      "text/html": [
       "<div>\n",
       "<style scoped>\n",
       "    .dataframe tbody tr th:only-of-type {\n",
       "        vertical-align: middle;\n",
       "    }\n",
       "\n",
       "    .dataframe tbody tr th {\n",
       "        vertical-align: top;\n",
       "    }\n",
       "\n",
       "    .dataframe thead th {\n",
       "        text-align: right;\n",
       "    }\n",
       "</style>\n",
       "<table border=\"1\" class=\"dataframe\">\n",
       "  <thead>\n",
       "    <tr style=\"text-align: right;\">\n",
       "      <th></th>\n",
       "      <th>id</th>\n",
       "      <th>weight</th>\n",
       "      <th>geometry</th>\n",
       "    </tr>\n",
       "  </thead>\n",
       "  <tbody>\n",
       "    <tr>\n",
       "      <th>0</th>\n",
       "      <td>d0000</td>\n",
       "      <td>1.0</td>\n",
       "      <td>POINT (36.95575 -1.43555)</td>\n",
       "    </tr>\n",
       "    <tr>\n",
       "      <th>1</th>\n",
       "      <td>d0001</td>\n",
       "      <td>1.0</td>\n",
       "      <td>POINT (36.91803 -1.42621)</td>\n",
       "    </tr>\n",
       "    <tr>\n",
       "      <th>2</th>\n",
       "      <td>d0002</td>\n",
       "      <td>1.0</td>\n",
       "      <td>POINT (36.92881 -1.42621)</td>\n",
       "    </tr>\n",
       "    <tr>\n",
       "      <th>3</th>\n",
       "      <td>d0003</td>\n",
       "      <td>1.0</td>\n",
       "      <td>POINT (36.93958 -1.42621)</td>\n",
       "    </tr>\n",
       "    <tr>\n",
       "      <th>4</th>\n",
       "      <td>d0004</td>\n",
       "      <td>1.0</td>\n",
       "      <td>POINT (36.95036 -1.42621)</td>\n",
       "    </tr>\n",
       "  </tbody>\n",
       "</table>\n",
       "</div>"
      ],
      "text/plain": [
       "      id  weight                   geometry\n",
       "0  d0000     1.0  POINT (36.95575 -1.43555)\n",
       "1  d0001     1.0  POINT (36.91803 -1.42621)\n",
       "2  d0002     1.0  POINT (36.92881 -1.42621)\n",
       "3  d0003     1.0  POINT (36.93958 -1.42621)\n",
       "4  d0004     1.0  POINT (36.95036 -1.42621)"
      ]
     },
     "metadata": {},
     "output_type": "display_data"
    }
   ],
   "source": [
    "demand = build_hex_grid(boundary, HEX_SIZE_KM)\n",
    "print(\"Demand points:\", len(demand))\n",
    "display(demand.head())\n",
    "# Map visualization"
   ]
  },
  {
   "cell_type": "code",
   "execution_count": 10,
   "id": "ffae8466",
   "metadata": {},
   "outputs": [],
   "source": [
    "def nearest_nodes(G, gdf_points):\n",
    "    return ox.distance.nearest_nodes(G, gdf_points.geometry.x, gdf_points.geometry.y)\n",
    "\n",
    "def compute_reach_sets(G, cand_nodes, demand_nodes, thresholds_min):\n",
    "    node_to_dem = {}\n",
    "    for j, dn in enumerate(demand_nodes):\n",
    "        node_to_dem.setdefault(int(dn), []).append(j)\n",
    "    cover = {}\n",
    "    for tmin in thresholds_min:\n",
    "        cutoff = tmin * 60\n",
    "        cover[tmin] = {j: [] for j in range(len(demand_nodes))}\n",
    "        for i, cn in enumerate(cand_nodes):\n",
    "            lengths = nx.single_source_dijkstra_path_length(G, cn, weight=\"travel_time\", cutoff=cutoff)\n",
    "            for node_id in lengths:\n",
    "                if node_id in node_to_dem:\n",
    "                    for j in node_to_dem[node_id]:\n",
    "                        cover[tmin][j].append(i)\n",
    "    return cover\n",
    "\n",
    "def solve_set_cover(num_sites, num_demands, cover_dict):\n",
    "    model = pyo.ConcreteModel()\n",
    "    model.I = pyo.RangeSet(0, num_sites-1)\n",
    "    model.J = pyo.RangeSet(0, num_demands-1)\n",
    "    model.y = pyo.Var(model.I, domain=pyo.Binary)\n",
    "\n",
    "    def cover_rule(m, j):\n",
    "        if len(cover_dict[j]) > 0:\n",
    "            return sum(m.y[i] for i in cover_dict[j]) >= 1\n",
    "        return pyo.Constraint.Skip\n",
    "    model.cover = pyo.Constraint(model.J, rule=cover_rule)\n",
    "    model.obj = pyo.Objective(expr=sum(model.y[i] for i in model.I), sense=pyo.minimize)\n",
    "\n",
    "    solver = pyo.SolverFactory(\"highs\")  # or \"cbc\", \"glpk\"\n",
    "    solver.solve(model)\n",
    "    picks = [i for i in range(num_sites) if pyo.value(model.y[i]) > 0.5]\n",
    "    return picks\n"
   ]
  },
  {
   "cell_type": "code",
   "execution_count": 11,
   "id": "23d14c81",
   "metadata": {},
   "outputs": [
    {
     "name": "stdout",
     "output_type": "stream",
     "text": [
      "10 min -> 11 sites selected\n",
      "15 min -> 5 sites selected\n",
      "20 min -> 3 sites selected\n"
     ]
    }
   ],
   "source": [
    "cand_nodes = nearest_nodes(G, candidates)\n",
    "dem_nodes = nearest_nodes(G, demand)\n",
    "cover_maps = compute_reach_sets(G, cand_nodes, dem_nodes, TIME_THRESHOLDS_MIN)\n",
    "\n",
    "results = {}\n",
    "for t in TIME_THRESHOLDS_MIN:\n",
    "    picks = solve_set_cover(len(candidates), len(demand), cover_maps[t])\n",
    "    results[t] = picks\n",
    "    print(f\"{t} min -> {len(picks)} sites selected\")\n"
   ]
  },
  {
   "cell_type": "code",
   "execution_count": 12,
   "id": "240fc947",
   "metadata": {},
   "outputs": [
    {
     "data": {
      "text/html": [
       "<div>\n",
       "<style scoped>\n",
       "    .dataframe tbody tr th:only-of-type {\n",
       "        vertical-align: middle;\n",
       "    }\n",
       "\n",
       "    .dataframe tbody tr th {\n",
       "        vertical-align: top;\n",
       "    }\n",
       "\n",
       "    .dataframe thead th {\n",
       "        text-align: right;\n",
       "    }\n",
       "</style>\n",
       "<table border=\"1\" class=\"dataframe\">\n",
       "  <thead>\n",
       "    <tr style=\"text-align: right;\">\n",
       "      <th></th>\n",
       "      <th>scenario_min</th>\n",
       "      <th>selected_sites</th>\n",
       "      <th>total_candidates</th>\n",
       "      <th>total_demand</th>\n",
       "    </tr>\n",
       "  </thead>\n",
       "  <tbody>\n",
       "    <tr>\n",
       "      <th>0</th>\n",
       "      <td>10</td>\n",
       "      <td>11</td>\n",
       "      <td>395</td>\n",
       "      <td>560</td>\n",
       "    </tr>\n",
       "    <tr>\n",
       "      <th>1</th>\n",
       "      <td>15</td>\n",
       "      <td>5</td>\n",
       "      <td>395</td>\n",
       "      <td>560</td>\n",
       "    </tr>\n",
       "    <tr>\n",
       "      <th>2</th>\n",
       "      <td>20</td>\n",
       "      <td>3</td>\n",
       "      <td>395</td>\n",
       "      <td>560</td>\n",
       "    </tr>\n",
       "  </tbody>\n",
       "</table>\n",
       "</div>"
      ],
      "text/plain": [
       "   scenario_min  selected_sites  total_candidates  total_demand\n",
       "0            10              11               395           560\n",
       "1            15               5               395           560\n",
       "2            20               3               395           560"
      ]
     },
     "execution_count": 12,
     "metadata": {},
     "output_type": "execute_result"
    }
   ],
   "source": [
    "\n",
    "RESULTS_DIR = \"results\"\n",
    "os.makedirs(RESULTS_DIR, exist_ok=True)\n",
    "\n",
    "# save selected sites per scenario (drop geometry for easy CSV view)\n",
    "for t, picks in results.items():\n",
    "    out = candidates.iloc[picks].copy()\n",
    "    out[\"scenario_min\"] = t\n",
    "    out.drop(columns=\"geometry\").to_csv(f\"{RESULTS_DIR}/selected_sites_{t}min.csv\", index=False)\n",
    "\n",
    "# coverage summary\n",
    "summary = pd.DataFrame({\n",
    "    \"scenario_min\": list(results.keys()),\n",
    "    \"selected_sites\": [len(results[t]) for t in results],\n",
    "    \"total_candidates\": len(candidates),\n",
    "    \"total_demand\": len(demand),\n",
    "})\n",
    "summary.sort_values(\"scenario_min\").to_csv(f\"{RESULTS_DIR}/coverage_summary.csv\", index=False)\n",
    "summary.sort_values(\"scenario_min\")\n"
   ]
  },
  {
   "cell_type": "code",
   "execution_count": 14,
   "id": "e9d110de",
   "metadata": {},
   "outputs": [
    {
     "data": {
      "image/png": "[encoded data removed]",
      "text/plain": [
       "<Figure size 500x350 with 1 Axes>"
      ]
     },
     "metadata": {},
     "output_type": "display_data"
    }
   ],
   "source": [
    "import matplotlib.pyplot as plt\n",
    "\n",
    "# Visualization of one scenario\n",
    "s = summary.sort_values(\"scenario_min\")\n",
    "plt.figure(figsize=(5,3.5))\n",
    "plt.bar(s[\"scenario_min\"].astype(str), s[\"selected_sites\"])\n",
    "plt.title(\"Stations required vs time threshold\")\n",
    "plt.xlabel(\"Time threshold (min)\")\n",
    "plt.ylabel(\"# stations\")\n",
    "plt.show()\n"
   ]
  },
  {
   "cell_type": "code",
   "execution_count": 15,
   "id": "95ea6fda",
   "metadata": {},
   "outputs": [
    {
     "name": "stderr",
     "output_type": "stream",
     "text": [
      "C:\\Users\\HP\\AppData\\Local\\Temp\\ipykernel_4532\\3514785491.py:2: UserWarning: Geometry is in a geographic CRS. Results from 'centroid' are likely incorrect. Use 'GeoSeries.to_crs()' to re-project geometries to a projected CRS before this operation.\n",
      "\n",
      "  center = [boundary.geometry.centroid.y.values[0], boundary.geometry.centroid.x.values[0]]\n"
     ]
    },
    {
     "name": "stdout",
     "output_type": "stream",
     "text": [
      "Saved: results/nairobi_charging_map.html\n"
     ]
    }
   ],
   "source": [
    "# Map visualization\n",
    "center = [boundary.geometry.centroid.y.values[0], boundary.geometry.centroid.x.values[0]]\n",
    "m = folium.Map(location=center, zoom_start=11, control_scale=True)\n",
    "\n",
    "# layer: all candidates\n",
    "cand_layer = folium.FeatureGroup(name=\"All candidates\", show=False)\n",
    "for _, r in candidates.iterrows():\n",
    "    folium.CircleMarker([r.geometry.y, r.geometry.x], radius=3, color=\"#555\", fill=True, fill_opacity=0.9,\n",
    "                        popup=str(r.get(\"name\", r[\"id\"]))).add_to(cand_layer)\n",
    "cand_layer.add_to(m)\n",
    "\n",
    "# selected per scenario\n",
    "colors = {10: \"red\", 15: \"blue\", 20: \"green\"}\n",
    "for t, picks in results.items():\n",
    "    layer = folium.FeatureGroup(name=f\"Selected sites ({t} min)\", show=(t==min(results)))\n",
    "    for i in picks:\n",
    "        rr = candidates.iloc[i]\n",
    "        folium.Marker([rr.geometry.y, rr.geometry.x],\n",
    "                      popup=f\"{rr.get('name', rr['id'])} ({t}min)\",\n",
    "                      icon=folium.Icon(color=colors[t])).add_to(layer)\n",
    "    layer.add_to(m)\n",
    "\n",
    "folium.LayerControl(collapsed=False).add_to(m)\n",
    "m  # display in notebook\n",
    "\n",
    "# and save\n",
    "html_path = f\"{RESULTS_DIR}/nairobi_charging_map.html\"\n",
    "m.save(html_path)\n",
    "print(\"Saved:\", html_path)\n"
   ]
  }
 ],
 "metadata": {
  "kernelspec": {
   "display_name": "optimiser-env",
   "language": "python",
   "name": "python3"
  },
  "language_info": {
   "codemirror_mode": {
    "name": "ipython",
    "version": 3
   },
   "file_extension": ".py",
   "mimetype": "text/x-python",
   "name": "python",
   "nbconvert_exporter": "python",
   "pygments_lexer": "ipython3",
   "version": "3.11.13"
  }
 },
 "nbformat": 4,
 "nbformat_minor": 5
}
